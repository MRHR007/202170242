{
 "cells": [
  {
   "cell_type": "code",
   "execution_count": 8,
   "metadata": {},
   "outputs": [
    {
     "name": "stdout",
     "output_type": "stream",
     "text": [
      "Following is the Depth-First Search\n",
      "2 "
     ]
    }
   ],
   "source": [
    "graph = {\n",
    "  '5' : ['3','7'],\n",
    "  '3' : ['2', '4'],\n",
    "  '7' : ['8'],\n",
    "  '2' : ['5'],\n",
    "  '4' : ['8'],\n",
    "  '8' : ['4','7']\n",
    "}\n",
    "node=input('Enter the start point, please :')\n",
    "dest=input('Enter the destination, please :')\n",
    "visited = set()\n",
    "\n",
    "def dfs(visited, graph, node,des):  \n",
    "\n",
    "    if node not in visited :   \n",
    "        print (node, end = \" \")    \n",
    "        visited.add(node)\n",
    "        if node == des:\n",
    "                print ('\\n the number is found \\n continue searching for other similar values:')\n",
    "\n",
    "        for neighbour in graph[node]:\n",
    "\n",
    "            dfs(visited, graph, neighbour,des)\n",
    "            \n",
    "\n",
    "print(\"Following is the Depth-First Search\")\n",
    "dfs(visited, graph, node,dest)"
   ]
  },
  {
   "cell_type": "code",
   "execution_count": null,
   "metadata": {},
   "outputs": [],
   "source": []
  }
 ],
 "metadata": {
  "kernelspec": {
   "display_name": "base",
   "language": "python",
   "name": "python3"
  },
  "language_info": {
   "codemirror_mode": {
    "name": "ipython",
    "version": 3
   },
   "file_extension": ".py",
   "mimetype": "text/x-python",
   "name": "python",
   "nbconvert_exporter": "python",
   "pygments_lexer": "ipython3",
   "version": "3.11.4"
  }
 },
 "nbformat": 4,
 "nbformat_minor": 2
}
